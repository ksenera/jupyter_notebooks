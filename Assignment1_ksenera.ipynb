{
  "nbformat": 4,
  "nbformat_minor": 0,
  "metadata": {
    "colab": {
      "provenance": [],
      "authorship_tag": "ABX9TyOGsjRibW784slgKs0GODIr",
      "include_colab_link": true
    },
    "kernelspec": {
      "name": "python3",
      "display_name": "Python 3"
    },
    "language_info": {
      "name": "python"
    }
  },
  "cells": [
    {
      "cell_type": "markdown",
      "metadata": {
        "id": "view-in-github",
        "colab_type": "text"
      },
      "source": [
        "<a href=\"https://colab.research.google.com/github/ksenera/jupyter_notebooks/blob/main/Assignment1_ksenera.ipynb\" target=\"_parent\"><img src=\"https://colab.research.google.com/assets/colab-badge.svg\" alt=\"Open In Colab\"/></a>"
      ]
    },
    {
      "cell_type": "code",
      "execution_count": null,
      "metadata": {
        "colab": {
          "base_uri": "https://localhost:8080/"
        },
        "id": "o77RF4VC5Cfv",
        "outputId": "f2031607-9552-490b-e83b-89aa8a9b1e6a"
      },
      "outputs": [
        {
          "output_type": "stream",
          "name": "stdout",
          "text": [
            "Drive already mounted at /content/drive; to attempt to forcibly remount, call drive.mount(\"/content/drive\", force_remount=True).\n"
          ]
        }
      ],
      "source": [
        "import numpy as np\n",
        "import pandas as pd\n",
        "from google.colab import drive\n",
        "drive.mount('/content/drive')"
      ]
    },
    {
      "cell_type": "code",
      "source": [
        "from pandas import read_csv\n",
        "filename = \"/content/drive/MyDrive/pima-indians-diabetes.data.csv\"\n",
        "featureNames = ['preg', 'plas', 'pres', 'skin', 'test', 'mass', 'pedi', 'age', 'class']\n",
        "myData = read_csv(filename, names= featureNames)\n",
        "peek = myData.head(5)\n",
        "print(peek)"
      ],
      "metadata": {
        "colab": {
          "base_uri": "https://localhost:8080/"
        },
        "id": "oEqLct3a8YqB",
        "outputId": "71ea0d96-2064-49e3-e963-37b74fc0b009"
      },
      "execution_count": null,
      "outputs": [
        {
          "output_type": "stream",
          "name": "stdout",
          "text": [
            "   preg  plas  pres  skin  test  mass   pedi  age  class\n",
            "0     6   148    72    35     0  33.6  0.627   50      1\n",
            "1     1    85    66    29     0  26.6  0.351   31      0\n",
            "2     8   183    64     0     0  23.3  0.672   32      1\n",
            "3     1    89    66    23    94  28.1  0.167   21      0\n",
            "4     0   137    40    35   168  43.1  2.288   33      1\n"
          ]
        }
      ]
    },
    {
      "cell_type": "code",
      "source": [
        "correlations = myData.corr(method='pearson')\n",
        "print(correlations)"
      ],
      "metadata": {
        "colab": {
          "base_uri": "https://localhost:8080/"
        },
        "id": "EXHRCg1PBm8K",
        "outputId": "4b10d9d2-d9de-409b-c6dc-0f218a107fe0"
      },
      "execution_count": null,
      "outputs": [
        {
          "output_type": "stream",
          "name": "stdout",
          "text": [
            "           preg      plas      pres      skin      test      mass      pedi  \\\n",
            "preg   1.000000  0.129459  0.141282 -0.081672 -0.073535  0.017683 -0.033523   \n",
            "plas   0.129459  1.000000  0.152590  0.057328  0.331357  0.221071  0.137337   \n",
            "pres   0.141282  0.152590  1.000000  0.207371  0.088933  0.281805  0.041265   \n",
            "skin  -0.081672  0.057328  0.207371  1.000000  0.436783  0.392573  0.183928   \n",
            "test  -0.073535  0.331357  0.088933  0.436783  1.000000  0.197859  0.185071   \n",
            "mass   0.017683  0.221071  0.281805  0.392573  0.197859  1.000000  0.140647   \n",
            "pedi  -0.033523  0.137337  0.041265  0.183928  0.185071  0.140647  1.000000   \n",
            "age    0.544341  0.263514  0.239528 -0.113970 -0.042163  0.036242  0.033561   \n",
            "class  0.221898  0.466581  0.065068  0.074752  0.130548  0.292695  0.173844   \n",
            "\n",
            "            age     class  \n",
            "preg   0.544341  0.221898  \n",
            "plas   0.263514  0.466581  \n",
            "pres   0.239528  0.065068  \n",
            "skin  -0.113970  0.074752  \n",
            "test  -0.042163  0.130548  \n",
            "mass   0.036242  0.292695  \n",
            "pedi   0.033561  0.173844  \n",
            "age    1.000000  0.238356  \n",
            "class  0.238356  1.000000  \n"
          ]
        }
      ]
    },
    {
      "cell_type": "code",
      "source": [
        "from numpy import set_printoptions\n",
        "from sklearn.preprocessing import MinMaxScaler\n",
        "array = myData.values\n",
        "X = array[:,0:8]\n",
        "Y = array[:,8:]\n",
        "scaler = MinMaxScaler(feature_range=(0, 1))\n",
        "scaledX = scaler.fit_transform(X)\n",
        "set_printoptions(precision=3)\n",
        "print(scaledX[0:5,:])\n"
      ],
      "metadata": {
        "colab": {
          "base_uri": "https://localhost:8080/"
        },
        "id": "qnuHGYeiCFe2",
        "outputId": "950d4296-a569-4f8f-e480-dcd0ddf8dd38"
      },
      "execution_count": null,
      "outputs": [
        {
          "output_type": "stream",
          "name": "stdout",
          "text": [
            "[[0.353 0.744 0.59  0.354 0.    0.501 0.234 0.483]\n",
            " [0.059 0.427 0.541 0.293 0.    0.396 0.117 0.167]\n",
            " [0.471 0.92  0.525 0.    0.    0.347 0.254 0.183]\n",
            " [0.059 0.447 0.541 0.232 0.111 0.419 0.038 0.   ]\n",
            " [0.    0.688 0.328 0.354 0.199 0.642 0.944 0.2  ]]\n"
          ]
        }
      ]
    },
    {
      "cell_type": "code",
      "source": [
        "rescaleddataframe = pd.DataFrame(scaledX, columns=featureNames[0:8])\n",
        "rescaledcorr = rescaleddataframe.corr(method='pearson')\n",
        "print(rescaledcorr)"
      ],
      "metadata": {
        "colab": {
          "base_uri": "https://localhost:8080/"
        },
        "id": "6f6Sc6n1GSIG",
        "outputId": "df15f301-6a33-49d1-ba62-e2d822a5127a"
      },
      "execution_count": null,
      "outputs": [
        {
          "output_type": "stream",
          "name": "stdout",
          "text": [
            "          preg      plas      pres      skin      test      mass      pedi  \\\n",
            "preg  1.000000  0.129459  0.141282 -0.081672 -0.073535  0.017683 -0.033523   \n",
            "plas  0.129459  1.000000  0.152590  0.057328  0.331357  0.221071  0.137337   \n",
            "pres  0.141282  0.152590  1.000000  0.207371  0.088933  0.281805  0.041265   \n",
            "skin -0.081672  0.057328  0.207371  1.000000  0.436783  0.392573  0.183928   \n",
            "test -0.073535  0.331357  0.088933  0.436783  1.000000  0.197859  0.185071   \n",
            "mass  0.017683  0.221071  0.281805  0.392573  0.197859  1.000000  0.140647   \n",
            "pedi -0.033523  0.137337  0.041265  0.183928  0.185071  0.140647  1.000000   \n",
            "age   0.544341  0.263514  0.239528 -0.113970 -0.042163  0.036242  0.033561   \n",
            "\n",
            "           age  \n",
            "preg  0.544341  \n",
            "plas  0.263514  \n",
            "pres  0.239528  \n",
            "skin -0.113970  \n",
            "test -0.042163  \n",
            "mass  0.036242  \n",
            "pedi  0.033561  \n",
            "age   1.000000  \n"
          ]
        }
      ]
    },
    {
      "cell_type": "markdown",
      "source": [
        "The correlations in the rescaled data have not changed compared to the original correlations. However class is not included in features."
      ],
      "metadata": {
        "id": "MIITC6LMbTGa"
      }
    },
    {
      "cell_type": "code",
      "source": [
        "classgroup = myData.groupby('class')\n",
        "print(classgroup.size())"
      ],
      "metadata": {
        "colab": {
          "base_uri": "https://localhost:8080/"
        },
        "id": "FN2NdETrcs2R",
        "outputId": "3ce3de8f-e5ec-401f-96df-856cd4dae1c3"
      },
      "execution_count": null,
      "outputs": [
        {
          "output_type": "stream",
          "name": "stdout",
          "text": [
            "class\n",
            "0    500\n",
            "1    268\n",
            "dtype: int64\n"
          ]
        }
      ]
    },
    {
      "cell_type": "code",
      "source": [
        "class_0 = classgroup.get_group(0)\n",
        "class0corr = class_0.corr(method='pearson')\n",
        "print(class0corr)"
      ],
      "metadata": {
        "colab": {
          "base_uri": "https://localhost:8080/"
        },
        "id": "Kxo9ayMDdDqn",
        "outputId": "323f4643-1366-431f-9baa-8daaf316a817"
      },
      "execution_count": null,
      "outputs": [
        {
          "output_type": "stream",
          "name": "stdout",
          "text": [
            "           preg      plas      pres      skin      test      mass      pedi  \\\n",
            "preg   1.000000  0.098685  0.133096 -0.118340 -0.131986  0.016495 -0.079951   \n",
            "plas   0.098685  1.000000  0.192795  0.016015  0.352957  0.131749  0.095548   \n",
            "pres   0.133096  0.192795  1.000000  0.187072  0.074626  0.363178  0.027292   \n",
            "skin  -0.118340  0.016015  0.187072  1.000000  0.412790  0.438606  0.095181   \n",
            "test  -0.131986  0.352957  0.074626  0.412790  1.000000  0.254202  0.227385   \n",
            "mass   0.016495  0.131749  0.363178  0.438606  0.254202  1.000000  0.070664   \n",
            "pedi  -0.079951  0.095548  0.027292  0.095181  0.227385  0.070664  1.000000   \n",
            "age    0.572776  0.228018  0.214694 -0.163788 -0.149234  0.036070  0.041665   \n",
            "class       NaN       NaN       NaN       NaN       NaN       NaN       NaN   \n",
            "\n",
            "            age  class  \n",
            "preg   0.572776    NaN  \n",
            "plas   0.228018    NaN  \n",
            "pres   0.214694    NaN  \n",
            "skin  -0.163788    NaN  \n",
            "test  -0.149234    NaN  \n",
            "mass   0.036070    NaN  \n",
            "pedi   0.041665    NaN  \n",
            "age    1.000000    NaN  \n",
            "class       NaN    NaN  \n"
          ]
        }
      ]
    },
    {
      "cell_type": "markdown",
      "source": [
        "Yes the correlations are still equal to assignment task 3 as per document."
      ],
      "metadata": {
        "id": "-dvlqsJPd_lM"
      }
    },
    {
      "cell_type": "code",
      "source": [
        "class_1 = classgroup.get_group(1)\n",
        "class1corr = class_1.corr(method='pearson')\n",
        "print(class1corr)"
      ],
      "metadata": {
        "colab": {
          "base_uri": "https://localhost:8080/"
        },
        "id": "piMW6jm8eYGI",
        "outputId": "e17f8dd2-5e23-4c69-cea6-4369dedcb06d"
      },
      "execution_count": null,
      "outputs": [
        {
          "output_type": "stream",
          "name": "stdout",
          "text": [
            "           preg      plas      pres      skin      test      mass      pedi  \\\n",
            "preg   1.000000 -0.054591  0.126963 -0.079165 -0.078563 -0.159071 -0.069195   \n",
            "plas  -0.054591  1.000000  0.068699  0.037618  0.261368  0.050418  0.026474   \n",
            "pres   0.126963  0.068699  1.000000  0.225247  0.089367  0.133951  0.034522   \n",
            "skin  -0.079165  0.037618  0.225247  1.000000  0.456558  0.312058  0.273900   \n",
            "test  -0.078563  0.261368  0.089367  0.456558  1.000000  0.055112  0.101565   \n",
            "mass  -0.159071  0.050418  0.133951  0.312058  0.055112  1.000000  0.136761   \n",
            "pedi  -0.069195  0.026474  0.034522  0.273900  0.101565  0.136761  1.000000   \n",
            "age    0.444987  0.098565  0.262684 -0.092012  0.023944 -0.188012 -0.088119   \n",
            "class       NaN       NaN       NaN       NaN       NaN       NaN       NaN   \n",
            "\n",
            "            age  class  \n",
            "preg   0.444987    NaN  \n",
            "plas   0.098565    NaN  \n",
            "pres   0.262684    NaN  \n",
            "skin  -0.092012    NaN  \n",
            "test   0.023944    NaN  \n",
            "mass  -0.188012    NaN  \n",
            "pedi  -0.088119    NaN  \n",
            "age    1.000000    NaN  \n",
            "class       NaN    NaN  \n"
          ]
        }
      ]
    },
    {
      "cell_type": "markdown",
      "source": [
        "The correlations between class 0 and class 1 are not the same as there was bound to be differences between individuals with diabetes and those without."
      ],
      "metadata": {
        "id": "GG9OCUE9e1z8"
      }
    }
  ]
}