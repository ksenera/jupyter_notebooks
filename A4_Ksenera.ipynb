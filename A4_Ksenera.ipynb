{
  "nbformat": 4,
  "nbformat_minor": 0,
  "metadata": {
    "colab": {
      "provenance": [],
      "authorship_tag": "ABX9TyOeqzoPsL0ACYdRrT0HYnBv",
      "include_colab_link": true
    },
    "kernelspec": {
      "name": "python3",
      "display_name": "Python 3"
    },
    "language_info": {
      "name": "python"
    }
  },
  "cells": [
    {
      "cell_type": "markdown",
      "metadata": {
        "id": "view-in-github",
        "colab_type": "text"
      },
      "source": [
        "<a href=\"https://colab.research.google.com/github/ksenera/jupyter_notebooks/blob/main/A4_Ksenera.ipynb\" target=\"_parent\"><img src=\"https://colab.research.google.com/assets/colab-badge.svg\" alt=\"Open In Colab\"/></a>"
      ]
    },
    {
      "cell_type": "code",
      "execution_count": null,
      "metadata": {
        "id": "KCvO1ID9l3fO"
      },
      "outputs": [],
      "source": [
        "import pandas as pd\n",
        "import numpy as np\n",
        "import matplotlib.pyplot as plt"
      ]
    },
    {
      "cell_type": "code",
      "source": [
        "#Personalized Dataset based on my D = 24 and S = 07\n",
        "D = 24\n",
        "S = 7\n",
        "\n",
        "dataset = [\n",
        "    [D-1, S+1, 0],\n",
        "    [D+3, S-2, 0],\n",
        "    [D-5, S+3, 1],\n",
        "    [D+2, S-4, 1]\n",
        "]\n",
        "\n",
        "df = pd.DataFrame(dataset, columns=['x1', 'x2', 'y'])\n",
        "\n",
        "# x1, x2 = features & y = label\n",
        "features = df[['x1', 'x2']]\n",
        "labels = df['y']\n",
        "\n",
        "# Given the log-odd function is: g(x) = x1−x2−D & the coefficients are 1, -1 and -D\n",
        "coef = np.array([[1, -1]])\n",
        "bias = np.array([-D])\n"
      ],
      "metadata": {
        "id": "1_OnICCnmCbz"
      },
      "execution_count": null,
      "outputs": []
    },
    {
      "cell_type": "code",
      "source": [
        "# from section 2 - walkthrough of the algo page 3/8\n",
        "\n",
        "def log_odds(features, coefficients, bias):\n",
        "    return np.dot(features, coefficients.T) + bias\n",
        "\n",
        "# define here first section 2 7.  page 4/8\n",
        "def sigmoid(log_odds):\n",
        "    denominator = 1 + np.exp(-log_odds)\n",
        "    return 1 / denominator\n",
        "\n",
        "# Task 1 - Calculate the probability\n",
        "# section 2 6. page 3/8\n",
        "result_log_odds = log_odds(features, coef, bias)\n",
        "p_hat = sigmoid(result_log_odds)\n",
        "\n",
        "print(\"Probabilities:\")\n",
        "print(p_hat)"
      ],
      "metadata": {
        "colab": {
          "base_uri": "https://localhost:8080/"
        },
        "id": "SyEZOUESqJB3",
        "outputId": "53ef941e-0845-43e0-852c-fe976a13ac80"
      },
      "execution_count": null,
      "outputs": [
        {
          "output_type": "stream",
          "name": "stdout",
          "text": [
            "Probabilities:\n",
            "[[1.23394576e-04]\n",
            " [1.19202922e-01]\n",
            " [3.05902227e-07]\n",
            " [2.68941421e-01]]\n"
          ]
        }
      ]
    },
    {
      "cell_type": "code",
      "source": [
        "# Task 2 - Determine predicted label y-hat\n",
        "# from logistic_regression_titanic_age.ipynb section 2. 10. page 6/8\n",
        "def predict(features, coefficients, bias, threshold):\n",
        "    result_log_odds = log_odds(features, coefficients, bias)\n",
        "    p_hat = sigmoid(result_log_odds)\n",
        "    return np.where(p_hat >= threshold, 1, 0)\n",
        "\n",
        "predicted_result = predict(features, coef, bias, 0.5)\n",
        "print(\"Predicted labels y-hat:\")\n",
        "print(predicted_result)"
      ],
      "metadata": {
        "colab": {
          "base_uri": "https://localhost:8080/"
        },
        "id": "cQdVosozrpPe",
        "outputId": "46e08b5c-555c-4a06-e133-56afac46d349"
      },
      "execution_count": null,
      "outputs": [
        {
          "output_type": "stream",
          "name": "stdout",
          "text": [
            "Predicted labels y-hat:\n",
            "[[0]\n",
            " [0]\n",
            " [0]\n",
            " [0]]\n"
          ]
        }
      ]
    },
    {
      "cell_type": "code",
      "source": [
        "# Task 3 - Calculate log-loss\n",
        "# section 2 9. page 6/8\n",
        "def log_loss(probabilities, labels):\n",
        "    return (-1 / labels.shape[0]) * np.sum(labels * np.log(probabilities) + (1-labels) * np.log(1-probabilities))\n",
        "\n",
        "# need column vector so reshape\n",
        "labels_reshaped = labels.to_numpy().reshape(-1, 1)\n",
        "cost = log_loss(p_hat, labels_reshaped)\n",
        "\n",
        "print(\"Log-loss:\")\n",
        "print(cost)"
      ],
      "metadata": {
        "colab": {
          "base_uri": "https://localhost:8080/"
        },
        "id": "83ZaTWEQucRe",
        "outputId": "7ddf662b-3da3-4aa5-f0cd-28666c207855"
      },
      "execution_count": null,
      "outputs": [
        {
          "output_type": "stream",
          "name": "stdout",
          "text": [
            "Log-loss:\n",
            "4.110078351663298\n"
          ]
        }
      ]
    },
    {
      "cell_type": "code",
      "source": [
        "plt.scatter(features['x1'], features['x2'], c=labels, s=100)\n",
        "plt.xlabel('x1')\n",
        "plt.ylabel('x2')\n",
        "plt.title('dataset')\n",
        "plt.show()"
      ],
      "metadata": {
        "colab": {
          "base_uri": "https://localhost:8080/",
          "height": 472
        },
        "id": "oHOXW83-vzSQ",
        "outputId": "774f8675-7825-4720-baf1-c0684bb49b03"
      },
      "execution_count": null,
      "outputs": [
        {
          "output_type": "display_data",
          "data": {
            "text/plain": [
              "<Figure size 640x480 with 1 Axes>"
            ],
            "image/png": "[encoded data removed]"
          },
          "metadata": {}
        }
      ]
    },
    {
      "cell_type": "markdown",
      "source": [
        "I created a very basic plot above using Gemini's auto code completion.\n",
        "\n",
        "\n",
        "Observations:\n",
        "\n",
        "Unfortunately given the log-odds function g(x) = x1 - x 2 - 24, the only positive term x1 would have to be much larger than x2 to predict samples probably belonging to class c. However since my bias term -24 was so large negatively y-hat = 0, thus all 4 probabilities were < 0.5."
      ],
      "metadata": {
        "id": "5qzd8n0MwbCN"
      }
    }
  ]
}